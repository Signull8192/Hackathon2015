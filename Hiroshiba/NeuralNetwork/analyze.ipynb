{
 "cells": [
  {
   "cell_type": "code",
   "execution_count": 10,
   "metadata": {
    "collapsed": false,
    "scrolled": true
   },
   "outputs": [
    {
     "name": "stdout",
     "output_type": "stream",
     "text": [
      "mean of self error : 0.0133408887918\n",
      "mean of other error : 0.0145549442752\n",
      "\n",
      "[[1]\n",
      " [1]\n",
      " [1]\n",
      " ..., \n",
      " [1]\n",
      " [1]\n",
      " [1]]\n",
      "mean of self error : 0.00313126485846\n",
      "mean of other error : 0.00429245169341\n",
      "\n",
      "[[1]\n",
      " [1]\n",
      " [1]\n",
      " ..., \n",
      " [1]\n",
      " [1]\n",
      " [1]]\n",
      "mean of self error : 0.00205958812992\n",
      "mean of other error : 0.00439805232787\n",
      "\n",
      "[[1]\n",
      " [1]\n",
      " [1]\n",
      " ..., \n",
      " [1]\n",
      " [1]\n",
      " [1]]\n",
      "finish!\n"
     ]
    }
   ],
   "source": [
    "\n",
    "# coding: utf-8\n",
    "\n",
    "# In[ ]:\n",
    "\n",
    "import math\n",
    "import pickle\n",
    "\n",
    "from PIL import Image\n",
    "import numpy as np\n",
    "\n",
    "import matplotlib.pyplot as plt\n",
    "import matplotlib.mlab as mlab\n",
    "\n",
    "# In[ ]:\n",
    "\n",
    "## load data\n",
    "opened   = open('save.dump','rb')\n",
    "data_all = pickle.load(opened)\n",
    "#print(data_all.shape)\n",
    "\n",
    "n_hold    = len(data_all)\n",
    "num_layers= len(data_all[0])\n",
    "\n",
    "for i_h in range(num_layers):\n",
    "    # prepare for plot   1:self, 0:other\n",
    "    err_other = np.empty(0)\n",
    "    err_self  = np.empty(0)\n",
    "    for k_hold in range(n_hold):\n",
    "        err_other = np.append(err_other, data_all[k_hold][i_h]['hist']['other'])\n",
    "        err_self  = np.append(err_self,  data_all[k_hold][i_h]['hist']['self'] )\n",
    "    \n",
    "    # plot err_eopch\n",
    "    k_hold = 0\n",
    "    plt.figure(i_h+100)\n",
    "    x_other = np.r_[0:data_all[k_hold][i_h]['loss']['other'].shape[0]]\n",
    "    x_self  = np.r_[0:data_all[k_hold][i_h]['loss']['self'].shape[0]]\n",
    "    plt.plot(x_other, data_all[k_hold][i_h]['loss']['other'], color = \"blue\")\n",
    "    plt.plot(x_self,  data_all[k_hold][i_h]['loss']['self'],  color = \"red\")\n",
    "    \n",
    "    # plot histgram\n",
    "    plt.figure(i_h)\n",
    "    plt.hist(err_other, label = \"other\", normed = True, bins = 20, alpha = 0.5, color = \"blue\")\n",
    "    plt.hist(err_self,  label = \"self\", normed = True,  bins = 20,  alpha = 0.5, color = \"red\")\n",
    "    plt.legend()\n",
    "    print('mean of self error : ' + str(err_self.mean()))\n",
    "    print('mean of other error : ' + str(err_other.mean()))\n",
    "    \n",
    "    data_all[0][i_h]['lastpredict']['label'].reshape(-1)\n",
    "    data_all[0][i_h]['lastpredict']['pedict'].reshape(-1)\n",
    "    print()\n",
    "    print(data_all[0][i_h]['lastpredict']['pedict'])\n",
    "\n",
    "plt.show()\n",
    "\n",
    "print('finish!')"
   ]
  },
  {
   "cell_type": "code",
   "execution_count": 9,
   "metadata": {
    "collapsed": false
   },
   "outputs": [
    {
     "data": {
      "text/plain": [
       "(1010,)"
      ]
     },
     "execution_count": 9,
     "metadata": {},
     "output_type": "execute_result"
    }
   ],
   "source": [
    "data_all[0][i_h]['lastpredict']['pedict'].reshape(-1)"
   ]
  },
  {
   "cell_type": "code",
   "execution_count": null,
   "metadata": {
    "collapsed": true
   },
   "outputs": [],
   "source": []
  }
 ],
 "metadata": {
  "kernelspec": {
   "display_name": "Python 3",
   "language": "python",
   "name": "python3"
  },
  "language_info": {
   "codemirror_mode": {
    "name": "ipython",
    "version": 3
   },
   "file_extension": ".py",
   "mimetype": "text/x-python",
   "name": "python",
   "nbconvert_exporter": "python",
   "pygments_lexer": "ipython3",
   "version": "3.4.3"
  }
 },
 "nbformat": 4,
 "nbformat_minor": 0
}
