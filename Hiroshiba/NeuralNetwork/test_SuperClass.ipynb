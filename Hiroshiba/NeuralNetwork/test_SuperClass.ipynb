{
 "cells": [
  {
   "cell_type": "code",
   "execution_count": null,
   "metadata": {
    "collapsed": false
   },
   "outputs": [],
   "source": [
    "import os\n",
    "import sys\n",
    "import re # for regex\n",
    "import math\n",
    "import json\n",
    "import pickle\n",
    "import importlib\n",
    "\n",
    "from PIL import Image\n",
    "import numpy as np\n",
    "\n",
    "from sklearn.datasets import fetch_mldata\n",
    "# import matplotlib.pyplot as plt\n",
    "# %matplotlib inline\n",
    "\n",
    "# import pycuda.autoinit\n",
    "\n",
    "from chainer import cuda, Function, FunctionSet, gradient_check, Variable, optimizers\n",
    "import chainer.functions as F\n",
    "\n",
    "import SuperClass\n",
    "import dA\n",
    "import SdA\n",
    "# import CdA\n",
    "\n",
    "data = np.random.ranf((100,100)).astype(np.float32)\n",
    "\n",
    "# importlib.reload(SuperClass)\n",
    "# importlib.reload(dA)\n",
    "# importlib.reload(SdA)\n",
    "\n",
    "n_in = data.shape[1]\n",
    "n_hiddens = (6, 3, 2)\n",
    "sda = SdA.StackedDenoisingAutoencoder(n_in, n_hiddens, n_epoch=5, use_cuda=False)\n",
    "\n",
    "sda.train(data)\n",
    "\n",
    "sda.predict(data, bAllLayer=True)"
   ]
  }
 ],
 "metadata": {
  "kernelspec": {
   "display_name": "Python 3",
   "language": "python",
   "name": "python3"
  },
  "language_info": {
   "codemirror_mode": {
    "name": "ipython",
    "version": 3
   },
   "file_extension": ".py",
   "mimetype": "text/x-python",
   "name": "python",
   "nbconvert_exporter": "python",
   "pygments_lexer": "ipython3",
   "version": "3.4.3"
  }
 },
 "nbformat": 4,
 "nbformat_minor": 0
}
