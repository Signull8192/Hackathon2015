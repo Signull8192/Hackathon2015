{
 "cells": [
  {
   "cell_type": "code",
   "execution_count": null,
   "metadata": {
    "collapsed": true
   },
   "outputs": [],
   "source": [
    "import os\n",
    "import sys\n",
    "import re # for regex\n",
    "import math\n",
    "import json\n",
    "import pickle\n",
    "\n",
    "from PIL import Image\n",
    "import numpy as np\n",
    "\n",
    "from sklearn.datasets import fetch_mldata\n",
    "import matplotlib.pyplot as plt\n",
    "%matplotlib inline\n",
    "\n",
    "# import pycuda.autoinit\n",
    "\n",
    "from chainer import cuda, Function, FunctionSet, gradient_check, Variable, optimizers\n",
    "import chainer.functions as F\n",
    "\n",
    "from dA import DenoisingAutoencoder\n",
    "from SdA import StackedDenoisingAutoencoder\n",
    "from CdA import ConvolutionalDenoisingAutoencoder\n",
    "from utils import *"
   ]
  },
  {
   "cell_type": "code",
   "execution_count": null,
   "metadata": {
    "collapsed": false
   },
   "outputs": [],
   "source": [
    "## make input movie\n",
    "size = 16\n",
    "frame = 30000\n",
    "movie = np.zeros((frame, size, size), dtype=np.float)\n",
    "\n",
    "# put stick\n",
    "num_stick = 4\n",
    "y_stick = np.zeros((num_stick,), dtype=np.float)\n",
    "x_stick = np.zeros((num_stick,), dtype=np.float)\n",
    "len_stick = np.zeros((num_stick,), dtype=np.float)\n",
    "range_stick = 3\n",
    "\n",
    "for i_frame in np.arange(frame):\n",
    "    img = np.zeros((size, size), dtype=np.float)\n",
    "    \n",
    "    for i_stick in np.arange(num_stick):\n",
    "        # stick move\n",
    "        y_stick[i_stick] -= len_stick[i_stick]//2 + 1\n",
    "        \n",
    "        # stick respawn\n",
    "        if y_stick[i_stick]<0 or i_frame==0:\n",
    "            l = np.random.randint(7)+1\n",
    "            len_stick[i_stick] = l\n",
    "            y_stick[i_stick] = size - range_stick\n",
    "            x_stick[i_stick] = np.random.randint(size-l)\n",
    "            \n",
    "        # draw stick\n",
    "        y, x = np.meshgrid((np.arange(len_stick[i_stick])+x_stick[i_stick]).astype(np.int8), (np.arange(range_stick)+y_stick[i_stick]).astype(np.int8))\n",
    "        img[x, y] = 1\n",
    "        \n",
    "    movie[i_frame, :, :] = img\n",
    "    \n",
    "# check image files\n",
    "if frame < 30:\n",
    "    for i_frame in np.arange(frame):\n",
    "        img = movie[i_frame, :, :]\n",
    "        im = Image.fromarray((img*255).astype(np.uint8))\n",
    "        im.save(str(i_frame)+'.png')"
   ]
  },
  {
   "cell_type": "code",
   "execution_count": null,
   "metadata": {
    "collapsed": false
   },
   "outputs": [],
   "source": [
    "## ML params\n",
    "n_frame = 5\n",
    "n_output = 100\n",
    "\n",
    "v_all = makeInputsAsMovie(movie, n_frame)\n",
    "\n",
    "n_pximage = size**2\n",
    "n_pxmovie = n_pximage * n_frame\n",
    "n_movie = v_all.shape[0]\n",
    "\n",
    "## ML values\n",
    "n_epoch = 500\n",
    "batchsize = 100"
   ]
  },
  {
   "cell_type": "code",
   "execution_count": null,
   "metadata": {
    "collapsed": false,
    "scrolled": true
   },
   "outputs": [],
   "source": [
    "## training\n",
    "dA = DenoisingAutoencoder(n_pxmovie, n_output)\n",
    "\n",
    "for epoch in range(n_epoch):\n",
    "    indexes = np.random.permutation(v_all.shape[0])\n",
    "    for i in range(0, v_all.shape[0], batchsize):\n",
    "        x_batch = v_all[indexes[i : i + batchsize]]\n",
    "        loss = dA.train(x_batch)\n",
    "    print('epoch:'+str(epoch)+' loss:' + str(loss))\n",
    "\n",
    "dA.save('history', n_output, n_epoch, batchsize)"
   ]
  },
  {
   "cell_type": "code",
   "execution_count": null,
   "metadata": {
    "collapsed": false
   },
   "outputs": [],
   "source": [
    "from utils import *\n",
    "\n",
    "## draw weight\n",
    "num_show = 8\n",
    "for i in range(num_show):\n",
    "    for i_frame in range(n_frame):\n",
    "        plt.subplot(n_frame, num_show, num_show*i_frame+i+1)\n",
    "        iw_s = n_pximage*i_frame\n",
    "        iw_e = n_pximage*(i_frame+1)\n",
    "        draw_weight( dA.model.encode.W[i][iw_s:iw_e], (size, size) )"
   ]
  },
  {
   "cell_type": "code",
   "execution_count": null,
   "metadata": {
    "collapsed": true
   },
   "outputs": [],
   "source": []
  }
 ],
 "metadata": {
  "kernelspec": {
   "display_name": "Python 3",
   "language": "python",
   "name": "python3"
  },
  "language_info": {
   "codemirror_mode": {
    "name": "ipython",
    "version": 3
   },
   "file_extension": ".py",
   "mimetype": "text/x-python",
   "name": "python",
   "nbconvert_exporter": "python",
   "pygments_lexer": "ipython3",
   "version": "3.4.3"
  }
 },
 "nbformat": 4,
 "nbformat_minor": 0
}
